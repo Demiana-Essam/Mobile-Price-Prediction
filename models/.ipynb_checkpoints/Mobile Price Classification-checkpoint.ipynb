{
 "cells": [
  {
   "cell_type": "markdown",
   "metadata": {},
   "source": [
    "# Objective of the model:\n",
    " Determine the price range of the mobile based on its features, we do not have to predict actual price but a price range indicating how high the price is\n",
    "\n",
    "# About thw dataset:\n",
    "This dataset contains 2001 records of features contains the target column which is divided into four classes:\n",
    "\n",
    "value of:\n",
    "- 0(low cost)\n",
    "- 1(medium cost)\n",
    "- 2(high cost)\n",
    "- 3(very high cost)\n",
    "\n",
    "Dataset link:\n",
    "https://www.kaggle.com/datasets/iabhishekofficial/mobile-price-classification\n",
    "\n",
    "# Inputs:"
   ]
  },
  {
   "cell_type": "code",
   "execution_count": null,
   "metadata": {},
   "outputs": [],
   "source": []
  }
 ],
 "metadata": {
  "kernelspec": {
   "display_name": "Python 3",
   "language": "python",
   "name": "python3"
  },
  "language_info": {
   "codemirror_mode": {
    "name": "ipython",
    "version": 3
   },
   "file_extension": ".py",
   "mimetype": "text/x-python",
   "name": "python",
   "nbconvert_exporter": "python",
   "pygments_lexer": "ipython3",
   "version": "3.7.6"
  }
 },
 "nbformat": 4,
 "nbformat_minor": 4
}
